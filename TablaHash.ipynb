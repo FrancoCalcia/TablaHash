{
  "nbformat": 4,
  "nbformat_minor": 0,
  "metadata": {
    "colab": {
      "provenance": [],
      "include_colab_link": true
    },
    "kernelspec": {
      "name": "python3",
      "display_name": "Python 3"
    },
    "language_info": {
      "name": "python"
    }
  },
  "cells": [
    {
      "cell_type": "markdown",
      "metadata": {
        "id": "view-in-github",
        "colab_type": "text"
      },
      "source": [
        "<a href=\"https://colab.research.google.com/github/FrancoCalcia/TablaHash-Python/blob/main/TablaHash.ipynb\" target=\"_parent\"><img src=\"https://colab.research.google.com/assets/colab-badge.svg\" alt=\"Open In Colab\"/></a>"
      ]
    },
    {
      "cell_type": "markdown",
      "source": [
        "# Tabla Hash\n",
        "\n",
        "\n"
      ],
      "metadata": {
        "id": "3FAvuRHkSKEB"
      }
    },
    {
      "cell_type": "markdown",
      "source": [
        "### Implementación de Tabla Hash para control de stock\n",
        "\n",
        "**Objetivo:** En este trabajo, se implementa un programa que ayude a llevar el control de stock de un supermercado.\n",
        "\n",
        "**Descripción:** Se implementa el programa para el control de stock de un supermercado usando una Tabla Hash. La misma se utilizará para almacenar información sobre los productos disponibles en el supermercado y la cantidad de unidades disponibles. Se permite la inserción, eliminación y búsqueda de productos. La Tabla Hash resolverá sus colisiones con encadenamiento.\n",
        "\n",
        "Tenga en cuenta que el supermercado vende normalmente más de $40000$ productos. Cada producto tiene un código alfanumérico de $10$ caracteres, por ejemplo \"AAN1235465\", \"123ABCDE12\".\n"
      ],
      "metadata": {
        "id": "AjUKW_C9UY14"
      }
    },
    {
      "cell_type": "code",
      "source": [
        "from typing import Any\n",
        "\n",
        "class Clave():\n",
        "  \"\"\"\n",
        "  Almacena la clave real a ser hasheada,\n",
        "  usando la representación que se desee,\n",
        "  y encapsula el algoritmo de hash elegido.\n",
        "  \"\"\"\n",
        "\n",
        "  def __init__(self, key: str):\n",
        "    self.key = key\n",
        "\n",
        "  def to_int(self) -> int:\n",
        "    \"\"\"\n",
        "    Esta función convierte el valor de la key en un número entero.\n",
        "    \"\"\"\n",
        "    codigo = 0\n",
        "    for a in self.key:\n",
        "        codigo = codigo * 39977 + ord(a)\n",
        "    return codigo\n",
        "\n",
        "  def __eq__(self, other) -> bool:\n",
        "    \"\"\"\n",
        "    Decide si dos claves son iguales\n",
        "    \"\"\"\n",
        "    return self.key == other.key\n"
      ],
      "metadata": {
        "id": "APkyA6dUYHDf"
      },
      "execution_count": 1,
      "outputs": []
    },
    {
      "cell_type": "code",
      "source": [
        "#Esta celda solo define la interfaz del TAD Diccionario.\n",
        "from typing import Any\n",
        "\n",
        "class Diccionario():\n",
        "  \"\"\"\n",
        "  Interfaz del TAD Diccionario\n",
        "  - insert(key, value) - Inserta un elemento con clave key y valor value en el diccionario.\n",
        "      Si la clave ya se encuentra en el diccionario, debe reemplazar el value anterior por el nuevo.\n",
        "  - search(key) - Devuelve la el value asociado con la clave key, o muestra un mensaje de error si la clave no se encuentra.\n",
        "  - delete(key) - Elimina el elemento con clave key del diccionario.\n",
        "  \"\"\"\n",
        "\n",
        "  def insert(self, key: Clave, data: Any) -> None:\n",
        "    pass\n",
        "\n",
        "  def search(self, key: Clave) -> Any:\n",
        "    pass\n",
        "\n",
        "  def delete(self, key: Clave) -> None:\n",
        "    pass\n"
      ],
      "metadata": {
        "id": "EQDZyS0NUjEV"
      },
      "execution_count": 2,
      "outputs": []
    },
    {
      "cell_type": "code",
      "source": [
        "class Node2:\n",
        "    def __init__(self, key=None, element=None, next=None):\n",
        "        \"\"\"\n",
        "        Se crea la clase 'Node2' y se inicializa el nodo para\n",
        "        posteriormente usar en la clase de lista enlazada\n",
        "        \"\"\"\n",
        "        self.key = key\n",
        "        self.element = element\n",
        "        self.next = next"
      ],
      "metadata": {
        "id": "lmm5YdQ2YRci"
      },
      "execution_count": 3,
      "outputs": []
    },
    {
      "cell_type": "code",
      "source": [
        "class ListaEnlazada:\n",
        "    \"\"\"\n",
        "    Clase 'ListaEnlazada'\n",
        "    - __init__ inicializa los nodos\n",
        "    - append(self, key, dato) - se agregan key y dato en la lista enlazada\n",
        "    - remove(self, key) - se eliminan key y dato en la lista enlazada\n",
        "    - __len__ - Se mide la longitud de la lista enlazada\n",
        "    - __str__ - Función para mostrar la lista enlazada\n",
        "    \"\"\"\n",
        "    def __init__(self):\n",
        "        self.head = None\n",
        "        self.len = 0\n",
        "\n",
        "    def append(self, key, dato):\n",
        "        if not self.head:\n",
        "            self.head = Node2(key, dato)\n",
        "        else:\n",
        "            indice = self.head\n",
        "            while indice.next:\n",
        "                indice = indice.next\n",
        "            indice.next = Node2(key, dato)\n",
        "        self.len += 1\n",
        "\n",
        "    def remove(self, key):\n",
        "        if not self.head:\n",
        "            return None\n",
        "        if self.head.key == key:\n",
        "            self.head = self.head.next\n",
        "            self.len -= 1\n",
        "            return\n",
        "        else:\n",
        "            anterior = self.head\n",
        "            actual = anterior.next\n",
        "            while actual is not None and actual.key != key:\n",
        "                anterior = actual\n",
        "                actual = anterior.next\n",
        "            if actual is None:\n",
        "                print(\"El elemento no esta en la lista\")\n",
        "                return\n",
        "            anterior.next = actual.next\n",
        "            self.len -= 1\n",
        "\n",
        "    def __len__(self):\n",
        "        return self.len\n",
        "\n",
        "    def __str__(self):\n",
        "        if not self.head:\n",
        "            return \"Esta Lista Enlazada está vacía\"\n",
        "        else:\n",
        "            iterador = self.head\n",
        "            lista = \"\"\n",
        "            while iterador:\n",
        "                lista += f\"{iterador.key} : {iterador.element}\" + \"-->\"\n",
        "                iterador = iterador.next\n",
        "            return lista[:-3]"
      ],
      "metadata": {
        "id": "1f3bWPFYYLwJ"
      },
      "execution_count": 4,
      "outputs": []
    },
    {
      "cell_type": "code",
      "execution_count": 5,
      "metadata": {
        "id": "RPRSYhobSJR8"
      },
      "outputs": [],
      "source": [
        "class HashTable(Diccionario):\n",
        "  \"\"\"\n",
        "  Implementación de Diccionario con tabla hash\n",
        "  de tamaño fijo y resolución de colisiones\n",
        "  por encadenamiento\n",
        "  \"\"\"\n",
        "\n",
        "  def __init__(self, size: int):\n",
        "    \"\"\"\n",
        "    El constructor inicializa una tabla de tamaño `size`.\n",
        "    \"\"\"\n",
        "    self.size = size\n",
        "    self.table = [ListaEnlazada() for i in range(size)]\n",
        "    self.len = 0\n",
        "\n",
        "  def fun_hash(self, clave: Clave) -> int:\n",
        "        \"\"\"\n",
        "        En esta funcion se aplica el operador módulo para obtener\n",
        "        el índice dentro del rango de la tabla.\n",
        "        \"\"\"\n",
        "        return clave.to_int() % self.size\n",
        "\n",
        "  def insert(self, key: Clave, data: Any) -> None:\n",
        "    \"\"\"\n",
        "    Implementacion del metodo insert\n",
        "    \"\"\"\n",
        "    indice = self.fun_hash(key)\n",
        "    self.table[indice].append(key, data)\n",
        "    self.len += 1\n",
        "\n",
        "  def search(self, key: Clave) -> Any | None:\n",
        "    \"\"\"\n",
        "    Implementacion del metodo search.\n",
        "    \"\"\"\n",
        "    index = self.fun_hash(key)\n",
        "    bucket = self.table[index]\n",
        "    if bucket.head is None:\n",
        "      return None\n",
        "    nodo_actual = bucket.head\n",
        "    while nodo_actual:\n",
        "      if nodo_actual.key == key:\n",
        "        return nodo_actual.element\n",
        "      nodo_actual = nodo_actual.next\n",
        "    return None\n",
        "\n",
        "\n",
        "  def delete(self, key: Clave) -> None:\n",
        "    \"\"\"\n",
        "    Implementacion del metodo delete\n",
        "    \"\"\"\n",
        "    indice = self.fun_hash(key)\n",
        "    self.table[indice].remove(key)\n",
        "    self.len -= 1\n",
        "\n",
        "\n",
        "  def __len__(self) -> int:\n",
        "    \"\"\"\n",
        "    Este método sobrecarga la función `len`.\n",
        "    Devuelve la cantidad de elementos insertados en la tabla.\n",
        "    Si la tabla esta vacía, devuelve cero.\n",
        "    \"\"\"\n",
        "    return self.len\n",
        "\n",
        "\n",
        "  def _load_factor(self) -> float:\n",
        "    \"\"\"\n",
        "    Este método devuelve el factor de carga de la tabla\n",
        "    \"\"\"\n",
        "    return len(self) / self.size\n",
        "\n",
        "\n",
        "  def _longest_list(self) -> int:\n",
        "    \"\"\"\n",
        "    Este método devuelve la longitud de la lista mas larga de la tabla\n",
        "    Utilizamos esta expresión para iterar sobre las longitudes de las listas en la tabla.\n",
        "    Luego, se utiliza la función `max` para encontrar la longitud máxima.\n",
        "    \"\"\"\n",
        "    return max(len(bucket) for bucket in self.table)\n",
        "\n",
        "\n",
        "  def __str__(self) -> str:\n",
        "    \"\"\"\n",
        "    Mostrar la cantidad de elementos de la tabla (__len__), el factor de carga (_load_factor)\n",
        "    y la longitud de la lista mas larga (_longest_list)\n",
        "    \"\"\"\n",
        "    return f\"Elementos: {len(self)}, Factor de Carga: {self._load_factor()}, Lista Más Larga: {self._longest_list()}\"\n"
      ]
    },
    {
      "cell_type": "markdown",
      "source": [
        "## Código de Prueba\n",
        "\n",
        "La siguiente celda deberia funciona como un test básico de funcionamiento. En caso de que la prueba funcione, ejecutar el siguiente código no imprime nada. En caso de problemas, mostrara un error.\n",
        "\n",
        "**Nota**: La prueba es muy básica ya que solo prueba insertar y eliminar un elemento.\n"
      ],
      "metadata": {
        "id": "VJnlnYk8T5Ad"
      }
    },
    {
      "cell_type": "code",
      "source": [
        "from random import choice, randrange\n",
        "\n",
        "def generar_clave_random() -> Clave:\n",
        "  \"\"\"\n",
        "  Genera una clave alfanumerica de 10 digitos al azar\n",
        "  \"\"\"\n",
        "  chars = \"1234567890QWERTYUIOPASDFGHJKLZXCVBNM\"\n",
        "  string = \"\".join(choice(chars) for _ in range(10))\n",
        "  return Clave(string)\n",
        "\n",
        "def generar_valor_random() -> int:\n",
        "  \"\"\"\n",
        "  Devuelve un valor al azar entre 0 y 100 millones\n",
        "  \"\"\"\n",
        "  return randrange(0, 100_000_000)\n",
        "\n",
        "def prueba_de_funcionamiento(diccionario: Diccionario):\n",
        "  # assert rompe el programa si la condición es falsa\n",
        "  # esto es útil para verificar cosas que deberían ser ciertas\n",
        "\n",
        "  clave = generar_clave_random()\n",
        "  valor = generar_valor_random()\n",
        "\n",
        "  diccionario.insert(clave, valor)\n",
        "\n",
        "  assert len(diccionario) == 1\n",
        "\n",
        "  assert diccionario.search(clave) == valor\n",
        "\n",
        "  diccionario.delete(clave)\n",
        "\n",
        "  assert len(diccionario) == 0\n",
        "\n",
        "# Para probar esto, primero implemente to_int en Celda y la clase HashTable\n",
        "prueba_de_funcionamiento(HashTable(100))"
      ],
      "metadata": {
        "id": "RcolPofBTXIq"
      },
      "execution_count": 6,
      "outputs": []
    }
  ]
}